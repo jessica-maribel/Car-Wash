{
  "nbformat": 4,
  "nbformat_minor": 0,
  "metadata": {
    "colab": {
      "provenance": []
    },
    "kernelspec": {
      "name": "python3",
      "display_name": "Python 3"
    },
    "language_info": {
      "name": "python"
    }
  },
  "cells": [
    {
      "cell_type": "code",
      "source": [
        "pip install simpy"
      ],
      "metadata": {
        "colab": {
          "base_uri": "https://localhost:8080/"
        },
        "id": "HxQMMUfi2aGv",
        "outputId": "fb048b30-6b47-44cf-b418-93ee3bc1d64e"
      },
      "execution_count": null,
      "outputs": [
        {
          "output_type": "stream",
          "name": "stdout",
          "text": [
            "Looking in indexes: https://pypi.org/simple, https://us-python.pkg.dev/colab-wheels/public/simple/\n",
            "Collecting simpy\n",
            "  Downloading simpy-4.0.1-py2.py3-none-any.whl (29 kB)\n",
            "Installing collected packages: simpy\n",
            "Successfully installed simpy-4.0.1\n"
          ]
        }
      ]
    },
    {
      "cell_type": "code",
      "execution_count": null,
      "metadata": {
        "colab": {
          "base_uri": "https://localhost:8080/"
        },
        "id": "u2WBdJKu1hHq",
        "outputId": "fa0d1395-d7bc-4f59-bb75-d65c7132ce2d"
      },
      "outputs": [
        {
          "output_type": "stream",
          "name": "stdout",
          "text": [
            "Llega el auto: Auto 1 a la hora 0.00\n",
            "Llega el auto: Auto 2 a la hora 0.00\n",
            "Llega el auto: Auto 3 a la hora 0.00\n",
            "Llega el auto: Auto 4 a la hora 0.00\n",
            "Llega el auto: Auto 5 a la hora 0.00\n",
            "El auto Auto 1 ingresa a las 0.00.\n",
            "El auto Auto 2 ingresa a las 0.00.\n",
            "El auto Auto 3 ingresa a las 0.00.\n",
            "El auto Auto 4 ingresa a las 0.00.\n",
            "Auto: Auto 1 ingrsa a las 3.00.\n",
            "El auto Auto 1 comienza el proceso de lavado a las 3.00.\n",
            "Auto: Auto 4 ingrsa a las 3.00.\n",
            "El auto Auto 4 comienza el proceso de lavado a las 3.00.\n",
            "Auto: Auto 3 ingrsa a las 5.00.\n",
            "El auto Auto 3 comienza el proceso de lavado a las 5.00.\n",
            "Auto: Auto 2 ingrsa a las 6.00.\n",
            "El auto Auto 2 comienza el proceso de lavado a las 6.00.\n",
            "Llega el auto: Auto 6 a la hora 12.00\n",
            "Llega el auto: Auto 7 a la hora 23.00\n",
            "Auto Auto 1 lavado: 26.00.\n",
            "Auto Auto 1 secado: 26.00.\n",
            "El auto Auto 1 comienza el proceso de secado a las 26.00.\n",
            "El auto Auto 5 ingresa a las 26.00.\n",
            "Auto Auto 4 lavado: 27.00.\n",
            "Auto Auto 4 secado: 27.00.\n",
            "El auto Auto 4 comienza el proceso de secado a las 27.00.\n",
            "El auto Auto 6 ingresa a las 27.00.\n",
            "Auto: Auto 5 ingrsa a las 29.00.\n",
            "El auto Auto 5 comienza el proceso de lavado a las 29.00.\n",
            "Llega el auto: Auto 8 a la hora 33.00\n",
            "Auto Auto 3 lavado: 33.00.\n",
            "Auto Auto 3 secado: 33.00.\n",
            "El auto Auto 3 comienza el proceso de secado a las 33.00.\n",
            "Auto Auto 2 lavado: 33.00.\n",
            "Auto Auto 2 secado: 33.00.\n",
            "El auto Auto 2 comienza el proceso de secado a las 33.00.\n",
            "Auto: Auto 6 ingrsa a las 33.00.\n",
            "El auto Auto 6 comienza el proceso de lavado a las 33.00.\n",
            "El auto Auto 7 ingresa a las 33.00.\n",
            "El auto Auto 8 ingresa a las 33.00.\n",
            "Auto: Auto 7 ingrsa a las 40.00.\n",
            "El auto Auto 7 comienza el proceso de lavado a las 40.00.\n",
            "Auto: Auto 8 ingrsa a las 40.00.\n",
            "El auto Auto 8 comienza el proceso de lavado a las 40.00.\n",
            "Llega el auto: Auto 9 a la hora 42.00\n",
            "Llega el auto: Auto 10 a la hora 52.00\n",
            "Auto Auto 6 lavado: 57.00.\n",
            "Auto Auto 6 secado: 57.00.\n",
            "El auto Auto 6 comienza el proceso de secado a las 57.00.\n",
            "El auto Auto 9 ingresa a las 57.00.\n",
            "Auto Auto 5 lavado: 58.00.\n",
            "Auto Auto 5 secado: 58.00.\n",
            "El auto Auto 5 comienza el proceso de secado a las 58.00.\n",
            "El auto Auto 10 ingresa a las 58.00.\n",
            "Auto: Auto 10 ingrsa a las 61.00.\n",
            "El auto Auto 10 comienza el proceso de lavado a las 61.00.\n",
            "Auto: Auto 9 ingrsa a las 63.00.\n",
            "El auto Auto 9 comienza el proceso de lavado a las 63.00.\n",
            "Llega el auto: Auto 11 a la hora 64.00\n",
            "Auto Auto 7 lavado: 68.00.\n",
            "Auto Auto 7 secado: 68.00.\n",
            "El auto Auto 7 comienza el proceso de secado a las 68.00.\n",
            "El auto Auto 11 ingresa a las 68.00.\n",
            "Auto Auto 8 lavado: 69.00.\n",
            "Auto Auto 8 secado: 69.00.\n",
            "El auto Auto 8 comienza el proceso de secado a las 69.00.\n",
            "Auto: Auto 11 ingrsa a las 74.00.\n",
            "El auto Auto 11 comienza el proceso de lavado a las 74.00.\n",
            "Llega el auto: Auto 12 a la hora 75.00\n",
            "El auto Auto 12 ingresa a las 75.00.\n",
            "Auto: Auto 12 ingrsa a las 80.00.\n",
            "El auto Auto 12 comienza el proceso de lavado a las 80.00.\n",
            "Llega el auto: Auto 13 a la hora 84.00\n",
            "Auto Auto 10 lavado: 86.00.\n",
            "Auto Auto 10 secado: 86.00.\n",
            "El auto Auto 10 comienza el proceso de secado a las 86.00.\n",
            "El auto Auto 13 ingresa a las 86.00.\n"
          ]
        }
      ],
      "source": [
        "\n",
        "import simpy\n",
        "import random\n",
        "\n",
        "maquinas = 4\n",
        "ingreso = 3\n",
        "lavado = 25\n",
        "secado = 15\n",
        "intervalo = 10\n",
        "tiempo_simulacion = 90\n",
        "\n",
        "def llegada(env, id, lavanderia):\n",
        "    print('Llega el auto: %s a la hora %.2f' % (id, env.now))\n",
        "    with lavanderia.maquina.request() as maquina:\n",
        "        yield maquina\n",
        "        yield env.process(lavanderia.ingreso(id))\n",
        "        print('Auto: %s ingrsa a las %.2f.' % (id, env.now))\n",
        "        yield env.process(lavanderia.lavado(id))\n",
        "        print(\"Auto %s lavado: %.2f.\" % (id, env.now))\n",
        "        env.process(lavanderia.secado(id))\n",
        "        print(\"Auto %s secado: %.2f.\" % (id, env.now))\n",
        "\n",
        "\n",
        "class CarWash(object):\n",
        "    def __init__(self, environment, maquinas, lavado):\n",
        "        self.env = environment\n",
        "        self.maquina = simpy.Resource(environment, maquinas)\n",
        "        self.tLavado = lavado\n",
        "\n",
        "    def ingreso(self, auto):\n",
        "        print('El auto %s ingresa a las %.2f.' % (auto, env.now))\n",
        "        yield self.env.timeout(random.randint(ingreso, ingreso +4))\n",
        "\n",
        "    def lavado(self, auto):\n",
        "        print('El auto %s comienza el proceso de lavado a las %.2f.' % (auto, env.now))\n",
        "        yield self.env.timeout(random.randint(lavado-2, lavado+4))\n",
        "\n",
        "    def secado(self, auto):\n",
        "        print('El auto %s comienza el proceso de secado a las %.2f.' % (auto, env.now))\n",
        "        yield self.env.timeout(random.randint(secado, secado+3))\n",
        "\n",
        "def ejecutar_simulacion(env, maquinas, lavado, intervalo):\n",
        "    carwash = CarWash(env, maquinas, lavado)\n",
        "    for i in range(5):\n",
        "        env.process(llegada(env, 'Auto %d' % (i+1), carwash))\n",
        "\n",
        "    while True:\n",
        "        yield env.timeout(random.randint(intervalo-2, intervalo+2))\n",
        "        i+=1\n",
        "        env.process(llegada(env, 'Auto %d' % (i+1), carwash))\n",
        "\n",
        "\n",
        "random.seed(6)\n",
        "\n",
        "env = simpy.Environment()\n",
        "env.process(ejecutar_simulacion(env, maquinas, lavado, intervalo))\n",
        "\n",
        "env.run(until=tiempo_simulacion)"
      ]
    },
    {
      "cell_type": "code",
      "source": [],
      "metadata": {
        "id": "5OUxmqbH2V9D"
      },
      "execution_count": null,
      "outputs": []
    }
  ]
}